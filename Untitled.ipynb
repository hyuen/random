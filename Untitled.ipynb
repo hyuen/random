{
 "cells": [
  {
   "cell_type": "code",
   "execution_count": 14,
   "metadata": {},
   "outputs": [],
   "source": [
    "#dicut 1100\n",
    "\n",
    "weight_1100_kg=.700\n",
    "\n",
    "#dicut 1800\n",
    "weight_1800_kg=.825\n",
    "\n",
    "radius_m= 29 * 2.54 *.001 / 2"
   ]
  },
  {
   "cell_type": "code",
   "execution_count": 9,
   "metadata": {},
   "outputs": [],
   "source": [
    "width_m_1100= 23/1e6\n",
    "width_m_1800= 47/1e6\n",
    "\n",
    "rb_1100=radius_m\n",
    "rb_1800=radius_m\n",
    "\n",
    "ra_1100=radius_m - width_m_1100\n",
    "ra_1800=radius_m - width_m_1800\n"
   ]
  },
  {
   "cell_type": "code",
   "execution_count": 11,
   "metadata": {},
   "outputs": [
    {
     "data": {
      "text/plain": [
       "(0.036807, 0.03683)"
      ]
     },
     "execution_count": 11,
     "metadata": {},
     "output_type": "execute_result"
    }
   ],
   "source": [
    "ra_1100, rb_1100"
   ]
  },
  {
   "cell_type": "code",
   "execution_count": 12,
   "metadata": {},
   "outputs": [
    {
     "data": {
      "text/plain": [
       "(0.036783, 0.03683)"
      ]
     },
     "execution_count": 12,
     "metadata": {},
     "output_type": "execute_result"
    }
   ],
   "source": [
    "ra_1800, rb_1800"
   ]
  },
  {
   "cell_type": "markdown",
   "metadata": {},
   "source": [
    "<img src=\"files/pic.gif\">, "
   ]
  },
  {
   "cell_type": "code",
   "execution_count": 16,
   "metadata": {},
   "outputs": [],
   "source": [
    "# rotational intertia\n",
    "# I=.5M(a^2 +b ^2)\n",
    "\n",
    "I_1100 = 0.5 * weight_1100_kg *(ra_1100 * ra_1100 + rb_1100 * rb_1100)\n",
    "I_1800 = 0.5 * weight_1800_kg *(ra_1800 * ra_1800 + rb_1800 * rb_1800)\n",
    "\n"
   ]
  },
  {
   "cell_type": "code",
   "execution_count": 17,
   "metadata": {},
   "outputs": [
    {
     "data": {
      "text/plain": [
       "(0.0009489214521499999, 0.0011176431704625)"
      ]
     },
     "execution_count": 17,
     "metadata": {},
     "output_type": "execute_result"
    }
   ],
   "source": [
    "I_1100, I_1800"
   ]
  },
  {
   "cell_type": "code",
   "execution_count": 20,
   "metadata": {},
   "outputs": [
    {
     "data": {
      "text/plain": [
       "15.096206264355391"
      ]
     },
     "execution_count": 20,
     "metadata": {},
     "output_type": "execute_result"
    }
   ],
   "source": [
    "ratio= (I_1800-I_1100)/(I_1800)\n",
    "ratio * 100"
   ]
  },
  {
   "cell_type": "code",
   "execution_count": null,
   "metadata": {},
   "outputs": [],
   "source": []
  }
 ],
 "metadata": {
  "kernelspec": {
   "display_name": "Python 3",
   "language": "python",
   "name": "python3"
  },
  "language_info": {
   "codemirror_mode": {
    "name": "ipython",
    "version": 3
   },
   "file_extension": ".py",
   "mimetype": "text/x-python",
   "name": "python",
   "nbconvert_exporter": "python",
   "pygments_lexer": "ipython3",
   "version": "3.8.3"
  }
 },
 "nbformat": 4,
 "nbformat_minor": 4
}
